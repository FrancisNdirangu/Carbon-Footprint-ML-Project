{
 "cells": [
  {
   "cell_type": "code",
   "execution_count": 1,
   "id": "5f5a1cbb",
   "metadata": {},
   "outputs": [],
   "source": [
    "import pandas as pd\n",
    "import matplotlib.pyplot as plt\n",
    "import seaborn as sns\n",
    "from scipy import stats"
   ]
  },
  {
   "cell_type": "markdown",
   "id": "9e3508c0",
   "metadata": {},
   "source": [
    "Converting the data into a dataframe"
   ]
  },
  {
   "cell_type": "code",
   "execution_count": 2,
   "id": "f71481b8",
   "metadata": {},
   "outputs": [],
   "source": [
    "df= pd.read_csv('train.csv')"
   ]
  },
  {
   "cell_type": "markdown",
   "id": "1ba3854f",
   "metadata": {},
   "source": [
    "Getting a preview of the data"
   ]
  },
  {
   "cell_type": "code",
   "execution_count": 3,
   "id": "6a958a55",
   "metadata": {},
   "outputs": [
    {
     "data": {
      "text/html": [
       "<div>\n",
       "<style scoped>\n",
       "    .dataframe tbody tr th:only-of-type {\n",
       "        vertical-align: middle;\n",
       "    }\n",
       "\n",
       "    .dataframe tbody tr th {\n",
       "        vertical-align: top;\n",
       "    }\n",
       "\n",
       "    .dataframe thead th {\n",
       "        text-align: right;\n",
       "    }\n",
       "</style>\n",
       "<table border=\"1\" class=\"dataframe\">\n",
       "  <thead>\n",
       "    <tr style=\"text-align: right;\">\n",
       "      <th></th>\n",
       "      <th>ID</th>\n",
       "      <th>electricity_kwh_per_month</th>\n",
       "      <th>natural_gas_therms_per_month</th>\n",
       "      <th>vehicle_miles_per_month</th>\n",
       "      <th>house_area_sqft</th>\n",
       "      <th>water_usage_liters_per_day</th>\n",
       "      <th>public_transport_usage_per_week</th>\n",
       "      <th>household_size</th>\n",
       "      <th>home_insulation_quality</th>\n",
       "      <th>meat_consumption_kg_per_week</th>\n",
       "      <th>laundry_loads_per_week</th>\n",
       "      <th>recycles_regularly</th>\n",
       "      <th>composts_organic_waste</th>\n",
       "      <th>uses_solar_panels</th>\n",
       "      <th>energy_efficient_appliances</th>\n",
       "      <th>heating_type</th>\n",
       "      <th>diet_type</th>\n",
       "      <th>owns_pet</th>\n",
       "      <th>smart_thermostat_installed</th>\n",
       "      <th>carbon_footprint</th>\n",
       "    </tr>\n",
       "  </thead>\n",
       "  <tbody>\n",
       "    <tr>\n",
       "      <th>0</th>\n",
       "      <td>0xd6c</td>\n",
       "      <td>759.70</td>\n",
       "      <td>55.95</td>\n",
       "      <td>944.55</td>\n",
       "      <td>2422.07</td>\n",
       "      <td>541.27</td>\n",
       "      <td>1</td>\n",
       "      <td>3</td>\n",
       "      <td>2</td>\n",
       "      <td>4.23</td>\n",
       "      <td>9</td>\n",
       "      <td>1.0</td>\n",
       "      <td>0.0</td>\n",
       "      <td>0</td>\n",
       "      <td>1.0</td>\n",
       "      <td>gas</td>\n",
       "      <td>vegetarian</td>\n",
       "      <td>1</td>\n",
       "      <td>NaN</td>\n",
       "      <td>830.10</td>\n",
       "    </tr>\n",
       "    <tr>\n",
       "      <th>1</th>\n",
       "      <td>0x3fdf</td>\n",
       "      <td>387.06</td>\n",
       "      <td>70.59</td>\n",
       "      <td>1280.85</td>\n",
       "      <td>1995.3</td>\n",
       "      <td>280.39</td>\n",
       "      <td>1</td>\n",
       "      <td>2</td>\n",
       "      <td>1</td>\n",
       "      <td>3.27</td>\n",
       "      <td>8</td>\n",
       "      <td>0.0</td>\n",
       "      <td>0.0</td>\n",
       "      <td>0</td>\n",
       "      <td>0.0</td>\n",
       "      <td>electric</td>\n",
       "      <td>vegetarian</td>\n",
       "      <td>0</td>\n",
       "      <td>0.0</td>\n",
       "      <td>963.08</td>\n",
       "    </tr>\n",
       "    <tr>\n",
       "      <th>2</th>\n",
       "      <td>0x3b08</td>\n",
       "      <td>594.25</td>\n",
       "      <td>29.14</td>\n",
       "      <td>1005.72</td>\n",
       "      <td>2673.55</td>\n",
       "      <td>416.14</td>\n",
       "      <td>0</td>\n",
       "      <td>2</td>\n",
       "      <td>3</td>\n",
       "      <td>2.87</td>\n",
       "      <td>3</td>\n",
       "      <td>0.0</td>\n",
       "      <td>1.0</td>\n",
       "      <td>0</td>\n",
       "      <td>1.0</td>\n",
       "      <td>electric</td>\n",
       "      <td>omnivore</td>\n",
       "      <td>1</td>\n",
       "      <td>1.0</td>\n",
       "      <td>840.11</td>\n",
       "    </tr>\n",
       "    <tr>\n",
       "      <th>3</th>\n",
       "      <td>0x31e5</td>\n",
       "      <td>503.76</td>\n",
       "      <td>74.68</td>\n",
       "      <td>1049.46</td>\n",
       "      <td>2994.28</td>\n",
       "      <td>530.13</td>\n",
       "      <td>0</td>\n",
       "      <td>5</td>\n",
       "      <td>1</td>\n",
       "      <td>3.22</td>\n",
       "      <td>9</td>\n",
       "      <td>1.0</td>\n",
       "      <td>0.0</td>\n",
       "      <td>0</td>\n",
       "      <td>0.0</td>\n",
       "      <td>electric</td>\n",
       "      <td>omnivore</td>\n",
       "      <td>1</td>\n",
       "      <td>0.0</td>\n",
       "      <td>1252.42</td>\n",
       "    </tr>\n",
       "    <tr>\n",
       "      <th>4</th>\n",
       "      <td>0x397e</td>\n",
       "      <td>549.54</td>\n",
       "      <td>-77.00</td>\n",
       "      <td>756.49</td>\n",
       "      <td>2549.57</td>\n",
       "      <td>604.10</td>\n",
       "      <td>5</td>\n",
       "      <td>4</td>\n",
       "      <td>4</td>\n",
       "      <td>2.92</td>\n",
       "      <td>2</td>\n",
       "      <td>1.0</td>\n",
       "      <td>0.0</td>\n",
       "      <td>0</td>\n",
       "      <td>1.0</td>\n",
       "      <td>electric</td>\n",
       "      <td>vegetarian</td>\n",
       "      <td>0</td>\n",
       "      <td>1.0</td>\n",
       "      <td>580.74</td>\n",
       "    </tr>\n",
       "  </tbody>\n",
       "</table>\n",
       "</div>"
      ],
      "text/plain": [
       "       ID  electricity_kwh_per_month  natural_gas_therms_per_month  \\\n",
       "0   0xd6c                     759.70                         55.95   \n",
       "1  0x3fdf                     387.06                         70.59   \n",
       "2  0x3b08                     594.25                         29.14   \n",
       "3  0x31e5                     503.76                         74.68   \n",
       "4  0x397e                     549.54                        -77.00   \n",
       "\n",
       "   vehicle_miles_per_month house_area_sqft  water_usage_liters_per_day  \\\n",
       "0                   944.55         2422.07                      541.27   \n",
       "1                  1280.85          1995.3                      280.39   \n",
       "2                  1005.72         2673.55                      416.14   \n",
       "3                  1049.46         2994.28                      530.13   \n",
       "4                   756.49         2549.57                      604.10   \n",
       "\n",
       "   public_transport_usage_per_week household_size  home_insulation_quality  \\\n",
       "0                                1              3                        2   \n",
       "1                                1              2                        1   \n",
       "2                                0              2                        3   \n",
       "3                                0              5                        1   \n",
       "4                                5              4                        4   \n",
       "\n",
       "   meat_consumption_kg_per_week  laundry_loads_per_week  recycles_regularly  \\\n",
       "0                          4.23                       9                 1.0   \n",
       "1                          3.27                       8                 0.0   \n",
       "2                          2.87                       3                 0.0   \n",
       "3                          3.22                       9                 1.0   \n",
       "4                          2.92                       2                 1.0   \n",
       "\n",
       "   composts_organic_waste  uses_solar_panels  energy_efficient_appliances  \\\n",
       "0                     0.0                  0                          1.0   \n",
       "1                     0.0                  0                          0.0   \n",
       "2                     1.0                  0                          1.0   \n",
       "3                     0.0                  0                          0.0   \n",
       "4                     0.0                  0                          1.0   \n",
       "\n",
       "  heating_type   diet_type  owns_pet  smart_thermostat_installed  \\\n",
       "0          gas  vegetarian         1                         NaN   \n",
       "1     electric  vegetarian         0                         0.0   \n",
       "2     electric    omnivore         1                         1.0   \n",
       "3     electric    omnivore         1                         0.0   \n",
       "4     electric  vegetarian         0                         1.0   \n",
       "\n",
       "   carbon_footprint  \n",
       "0            830.10  \n",
       "1            963.08  \n",
       "2            840.11  \n",
       "3           1252.42  \n",
       "4            580.74  "
      ]
     },
     "execution_count": 3,
     "metadata": {},
     "output_type": "execute_result"
    }
   ],
   "source": [
    "df.head()"
   ]
  },
  {
   "cell_type": "markdown",
   "id": "a60a7dda",
   "metadata": {},
   "source": [
    "Getting the names of the columns"
   ]
  },
  {
   "cell_type": "code",
   "execution_count": 4,
   "id": "d7487647",
   "metadata": {},
   "outputs": [
    {
     "data": {
      "text/plain": [
       "Index(['ID', 'electricity_kwh_per_month', 'natural_gas_therms_per_month',\n",
       "       'vehicle_miles_per_month', 'house_area_sqft',\n",
       "       'water_usage_liters_per_day', 'public_transport_usage_per_week',\n",
       "       'household_size', 'home_insulation_quality',\n",
       "       'meat_consumption_kg_per_week', 'laundry_loads_per_week',\n",
       "       'recycles_regularly', 'composts_organic_waste', 'uses_solar_panels',\n",
       "       'energy_efficient_appliances', 'heating_type', 'diet_type', 'owns_pet',\n",
       "       'smart_thermostat_installed', 'carbon_footprint'],\n",
       "      dtype='object')"
      ]
     },
     "execution_count": 4,
     "metadata": {},
     "output_type": "execute_result"
    }
   ],
   "source": [
    "df.columns"
   ]
  },
  {
   "cell_type": "markdown",
   "id": "b43e8474",
   "metadata": {},
   "source": [
    "Finding out the population statistics for the numerical columns"
   ]
  },
  {
   "cell_type": "code",
   "execution_count": 5,
   "id": "183c3473",
   "metadata": {},
   "outputs": [
    {
     "data": {
      "text/html": [
       "<div>\n",
       "<style scoped>\n",
       "    .dataframe tbody tr th:only-of-type {\n",
       "        vertical-align: middle;\n",
       "    }\n",
       "\n",
       "    .dataframe tbody tr th {\n",
       "        vertical-align: top;\n",
       "    }\n",
       "\n",
       "    .dataframe thead th {\n",
       "        text-align: right;\n",
       "    }\n",
       "</style>\n",
       "<table border=\"1\" class=\"dataframe\">\n",
       "  <thead>\n",
       "    <tr style=\"text-align: right;\">\n",
       "      <th></th>\n",
       "      <th>electricity_kwh_per_month</th>\n",
       "      <th>natural_gas_therms_per_month</th>\n",
       "      <th>vehicle_miles_per_month</th>\n",
       "      <th>water_usage_liters_per_day</th>\n",
       "      <th>public_transport_usage_per_week</th>\n",
       "      <th>home_insulation_quality</th>\n",
       "      <th>meat_consumption_kg_per_week</th>\n",
       "      <th>laundry_loads_per_week</th>\n",
       "      <th>recycles_regularly</th>\n",
       "      <th>composts_organic_waste</th>\n",
       "      <th>uses_solar_panels</th>\n",
       "      <th>energy_efficient_appliances</th>\n",
       "      <th>owns_pet</th>\n",
       "      <th>smart_thermostat_installed</th>\n",
       "      <th>carbon_footprint</th>\n",
       "    </tr>\n",
       "  </thead>\n",
       "  <tbody>\n",
       "    <tr>\n",
       "      <th>count</th>\n",
       "      <td>14000.000000</td>\n",
       "      <td>14000.000000</td>\n",
       "      <td>14000.000000</td>\n",
       "      <td>14000.000000</td>\n",
       "      <td>14000.000000</td>\n",
       "      <td>14000.000000</td>\n",
       "      <td>14000.000000</td>\n",
       "      <td>14000.000000</td>\n",
       "      <td>13590.000000</td>\n",
       "      <td>13610.000000</td>\n",
       "      <td>14000.000000</td>\n",
       "      <td>13569.000000</td>\n",
       "      <td>14000.000000</td>\n",
       "      <td>13584.000000</td>\n",
       "      <td>14000.000000</td>\n",
       "    </tr>\n",
       "    <tr>\n",
       "      <th>mean</th>\n",
       "      <td>389.866107</td>\n",
       "      <td>47.588121</td>\n",
       "      <td>796.046458</td>\n",
       "      <td>385.497657</td>\n",
       "      <td>3.271357</td>\n",
       "      <td>3.003857</td>\n",
       "      <td>3.008954</td>\n",
       "      <td>5.005571</td>\n",
       "      <td>0.706034</td>\n",
       "      <td>0.393608</td>\n",
       "      <td>0.199571</td>\n",
       "      <td>0.498784</td>\n",
       "      <td>0.500143</td>\n",
       "      <td>0.301899</td>\n",
       "      <td>776.046010</td>\n",
       "    </tr>\n",
       "    <tr>\n",
       "      <th>std</th>\n",
       "      <td>119.070653</td>\n",
       "      <td>25.098685</td>\n",
       "      <td>340.217925</td>\n",
       "      <td>127.034232</td>\n",
       "      <td>2.942215</td>\n",
       "      <td>1.147641</td>\n",
       "      <td>1.464928</td>\n",
       "      <td>2.568548</td>\n",
       "      <td>0.455593</td>\n",
       "      <td>0.488568</td>\n",
       "      <td>0.399692</td>\n",
       "      <td>0.500017</td>\n",
       "      <td>0.500018</td>\n",
       "      <td>0.459099</td>\n",
       "      <td>190.432709</td>\n",
       "    </tr>\n",
       "    <tr>\n",
       "      <th>min</th>\n",
       "      <td>-99.000000</td>\n",
       "      <td>-99.000000</td>\n",
       "      <td>-1567.182896</td>\n",
       "      <td>-99.000000</td>\n",
       "      <td>-14.000000</td>\n",
       "      <td>-4.000000</td>\n",
       "      <td>0.000000</td>\n",
       "      <td>1.000000</td>\n",
       "      <td>0.000000</td>\n",
       "      <td>0.000000</td>\n",
       "      <td>0.000000</td>\n",
       "      <td>0.000000</td>\n",
       "      <td>0.000000</td>\n",
       "      <td>0.000000</td>\n",
       "      <td>310.000000</td>\n",
       "    </tr>\n",
       "    <tr>\n",
       "      <th>25%</th>\n",
       "      <td>325.067500</td>\n",
       "      <td>35.410000</td>\n",
       "      <td>587.525000</td>\n",
       "      <td>322.547500</td>\n",
       "      <td>1.000000</td>\n",
       "      <td>2.000000</td>\n",
       "      <td>1.980000</td>\n",
       "      <td>3.000000</td>\n",
       "      <td>0.000000</td>\n",
       "      <td>0.000000</td>\n",
       "      <td>0.000000</td>\n",
       "      <td>0.000000</td>\n",
       "      <td>0.000000</td>\n",
       "      <td>0.000000</td>\n",
       "      <td>631.065000</td>\n",
       "    </tr>\n",
       "    <tr>\n",
       "      <th>50%</th>\n",
       "      <td>394.995000</td>\n",
       "      <td>49.205000</td>\n",
       "      <td>792.885000</td>\n",
       "      <td>395.325000</td>\n",
       "      <td>3.000000</td>\n",
       "      <td>3.000000</td>\n",
       "      <td>2.990000</td>\n",
       "      <td>5.000000</td>\n",
       "      <td>1.000000</td>\n",
       "      <td>0.000000</td>\n",
       "      <td>0.000000</td>\n",
       "      <td>0.000000</td>\n",
       "      <td>1.000000</td>\n",
       "      <td>0.000000</td>\n",
       "      <td>763.725000</td>\n",
       "    </tr>\n",
       "    <tr>\n",
       "      <th>75%</th>\n",
       "      <td>464.440000</td>\n",
       "      <td>62.872500</td>\n",
       "      <td>1003.462500</td>\n",
       "      <td>464.652500</td>\n",
       "      <td>5.000000</td>\n",
       "      <td>4.000000</td>\n",
       "      <td>4.000000</td>\n",
       "      <td>7.000000</td>\n",
       "      <td>1.000000</td>\n",
       "      <td>1.000000</td>\n",
       "      <td>0.000000</td>\n",
       "      <td>1.000000</td>\n",
       "      <td>1.000000</td>\n",
       "      <td>1.000000</td>\n",
       "      <td>905.910000</td>\n",
       "    </tr>\n",
       "    <tr>\n",
       "      <th>max</th>\n",
       "      <td>786.890000</td>\n",
       "      <td>116.950000</td>\n",
       "      <td>2697.807683</td>\n",
       "      <td>885.940000</td>\n",
       "      <td>17.000000</td>\n",
       "      <td>9.000000</td>\n",
       "      <td>8.440000</td>\n",
       "      <td>9.000000</td>\n",
       "      <td>1.000000</td>\n",
       "      <td>1.000000</td>\n",
       "      <td>1.000000</td>\n",
       "      <td>1.000000</td>\n",
       "      <td>1.000000</td>\n",
       "      <td>1.000000</td>\n",
       "      <td>1610.000000</td>\n",
       "    </tr>\n",
       "  </tbody>\n",
       "</table>\n",
       "</div>"
      ],
      "text/plain": [
       "       electricity_kwh_per_month  natural_gas_therms_per_month  \\\n",
       "count               14000.000000                  14000.000000   \n",
       "mean                  389.866107                     47.588121   \n",
       "std                   119.070653                     25.098685   \n",
       "min                   -99.000000                    -99.000000   \n",
       "25%                   325.067500                     35.410000   \n",
       "50%                   394.995000                     49.205000   \n",
       "75%                   464.440000                     62.872500   \n",
       "max                   786.890000                    116.950000   \n",
       "\n",
       "       vehicle_miles_per_month  water_usage_liters_per_day  \\\n",
       "count             14000.000000                14000.000000   \n",
       "mean                796.046458                  385.497657   \n",
       "std                 340.217925                  127.034232   \n",
       "min               -1567.182896                  -99.000000   \n",
       "25%                 587.525000                  322.547500   \n",
       "50%                 792.885000                  395.325000   \n",
       "75%                1003.462500                  464.652500   \n",
       "max                2697.807683                  885.940000   \n",
       "\n",
       "       public_transport_usage_per_week  home_insulation_quality  \\\n",
       "count                     14000.000000             14000.000000   \n",
       "mean                          3.271357                 3.003857   \n",
       "std                           2.942215                 1.147641   \n",
       "min                         -14.000000                -4.000000   \n",
       "25%                           1.000000                 2.000000   \n",
       "50%                           3.000000                 3.000000   \n",
       "75%                           5.000000                 4.000000   \n",
       "max                          17.000000                 9.000000   \n",
       "\n",
       "       meat_consumption_kg_per_week  laundry_loads_per_week  \\\n",
       "count                  14000.000000            14000.000000   \n",
       "mean                       3.008954                5.005571   \n",
       "std                        1.464928                2.568548   \n",
       "min                        0.000000                1.000000   \n",
       "25%                        1.980000                3.000000   \n",
       "50%                        2.990000                5.000000   \n",
       "75%                        4.000000                7.000000   \n",
       "max                        8.440000                9.000000   \n",
       "\n",
       "       recycles_regularly  composts_organic_waste  uses_solar_panels  \\\n",
       "count        13590.000000            13610.000000       14000.000000   \n",
       "mean             0.706034                0.393608           0.199571   \n",
       "std              0.455593                0.488568           0.399692   \n",
       "min              0.000000                0.000000           0.000000   \n",
       "25%              0.000000                0.000000           0.000000   \n",
       "50%              1.000000                0.000000           0.000000   \n",
       "75%              1.000000                1.000000           0.000000   \n",
       "max              1.000000                1.000000           1.000000   \n",
       "\n",
       "       energy_efficient_appliances      owns_pet  smart_thermostat_installed  \\\n",
       "count                 13569.000000  14000.000000                13584.000000   \n",
       "mean                      0.498784      0.500143                    0.301899   \n",
       "std                       0.500017      0.500018                    0.459099   \n",
       "min                       0.000000      0.000000                    0.000000   \n",
       "25%                       0.000000      0.000000                    0.000000   \n",
       "50%                       0.000000      1.000000                    0.000000   \n",
       "75%                       1.000000      1.000000                    1.000000   \n",
       "max                       1.000000      1.000000                    1.000000   \n",
       "\n",
       "       carbon_footprint  \n",
       "count      14000.000000  \n",
       "mean         776.046010  \n",
       "std          190.432709  \n",
       "min          310.000000  \n",
       "25%          631.065000  \n",
       "50%          763.725000  \n",
       "75%          905.910000  \n",
       "max         1610.000000  "
      ]
     },
     "execution_count": 5,
     "metadata": {},
     "output_type": "execute_result"
    }
   ],
   "source": [
    "df.describe()"
   ]
  },
  {
   "cell_type": "markdown",
   "id": "3bf38abe",
   "metadata": {},
   "source": [
    "Checking the data types of the columns"
   ]
  },
  {
   "cell_type": "code",
   "execution_count": 6,
   "id": "e81cca2f",
   "metadata": {},
   "outputs": [
    {
     "name": "stdout",
     "output_type": "stream",
     "text": [
      "<class 'pandas.core.frame.DataFrame'>\n",
      "RangeIndex: 14000 entries, 0 to 13999\n",
      "Data columns (total 20 columns):\n",
      " #   Column                           Non-Null Count  Dtype  \n",
      "---  ------                           --------------  -----  \n",
      " 0   ID                               14000 non-null  object \n",
      " 1   electricity_kwh_per_month        14000 non-null  float64\n",
      " 2   natural_gas_therms_per_month     14000 non-null  float64\n",
      " 3   vehicle_miles_per_month          14000 non-null  float64\n",
      " 4   house_area_sqft                  14000 non-null  object \n",
      " 5   water_usage_liters_per_day       14000 non-null  float64\n",
      " 6   public_transport_usage_per_week  14000 non-null  int64  \n",
      " 7   household_size                   14000 non-null  object \n",
      " 8   home_insulation_quality          14000 non-null  int64  \n",
      " 9   meat_consumption_kg_per_week     14000 non-null  float64\n",
      " 10  laundry_loads_per_week           14000 non-null  int64  \n",
      " 11  recycles_regularly               13590 non-null  float64\n",
      " 12  composts_organic_waste           13610 non-null  float64\n",
      " 13  uses_solar_panels                14000 non-null  int64  \n",
      " 14  energy_efficient_appliances      13569 non-null  float64\n",
      " 15  heating_type                     14000 non-null  object \n",
      " 16  diet_type                        14000 non-null  object \n",
      " 17  owns_pet                         14000 non-null  int64  \n",
      " 18  smart_thermostat_installed       13584 non-null  float64\n",
      " 19  carbon_footprint                 14000 non-null  float64\n",
      "dtypes: float64(10), int64(5), object(5)\n",
      "memory usage: 2.1+ MB\n"
     ]
    }
   ],
   "source": [
    "df.info()"
   ]
  },
  {
   "cell_type": "markdown",
   "id": "3c302d50",
   "metadata": {},
   "source": [
    "As we can see above the dataframe has 14000 rows. \n",
    "\n",
    "But there are a few columns with less than 14000 non-null values. Meaning they have missing data"
   ]
  },
  {
   "cell_type": "markdown",
   "id": "22cacc66",
   "metadata": {},
   "source": [
    "Checking to see the columns with null values"
   ]
  },
  {
   "cell_type": "code",
   "execution_count": 7,
   "id": "3be03123",
   "metadata": {},
   "outputs": [
    {
     "data": {
      "text/plain": [
       "ID                                 False\n",
       "electricity_kwh_per_month          False\n",
       "natural_gas_therms_per_month       False\n",
       "vehicle_miles_per_month            False\n",
       "house_area_sqft                    False\n",
       "water_usage_liters_per_day         False\n",
       "public_transport_usage_per_week    False\n",
       "household_size                     False\n",
       "home_insulation_quality            False\n",
       "meat_consumption_kg_per_week       False\n",
       "laundry_loads_per_week             False\n",
       "recycles_regularly                  True\n",
       "composts_organic_waste              True\n",
       "uses_solar_panels                  False\n",
       "energy_efficient_appliances         True\n",
       "heating_type                       False\n",
       "diet_type                          False\n",
       "owns_pet                           False\n",
       "smart_thermostat_installed          True\n",
       "carbon_footprint                   False\n",
       "dtype: bool"
      ]
     },
     "execution_count": 7,
     "metadata": {},
     "output_type": "execute_result"
    }
   ],
   "source": [
    "df.isna().any()"
   ]
  },
  {
   "cell_type": "markdown",
   "id": "f111e7af",
   "metadata": {},
   "source": [
    "Checking the percentage null values of the columns for the columns with missing data.\n",
    "\n",
    "Arranging that info in descending order"
   ]
  },
  {
   "cell_type": "code",
   "execution_count": 8,
   "id": "7a1220d4",
   "metadata": {},
   "outputs": [
    {
     "data": {
      "text/plain": [
       "energy_efficient_appliances    0.030786\n",
       "smart_thermostat_installed     0.029714\n",
       "recycles_regularly             0.029286\n",
       "composts_organic_waste         0.027857\n",
       "dtype: float64"
      ]
     },
     "execution_count": 8,
     "metadata": {},
     "output_type": "execute_result"
    }
   ],
   "source": [
    "df.isna().mean()[df.isna().mean() > 0].sort_values(ascending=False)"
   ]
  },
  {
   "cell_type": "markdown",
   "id": "adc2450a",
   "metadata": {},
   "source": [
    "Since the columns with missing data have 3% missing data or less we will drop these rows with missing data"
   ]
  },
  {
   "cell_type": "code",
   "execution_count": 9,
   "id": "8c31b081",
   "metadata": {},
   "outputs": [],
   "source": [
    "#creating a list with the columns with missing values\n",
    "cols_null_rows = list(df.isna().mean()[df.isna().mean() > 0].index)\n",
    "\n",
    "#dropping the rows with null values\n",
    "df.dropna(axis=0,subset=cols_null_rows,inplace=True)"
   ]
  },
  {
   "cell_type": "markdown",
   "id": "c18be0a3",
   "metadata": {},
   "source": [
    "Checking to ensure the columns were dropped"
   ]
  },
  {
   "cell_type": "code",
   "execution_count": 10,
   "id": "f49d61db",
   "metadata": {},
   "outputs": [
    {
     "data": {
      "text/plain": [
       "Series([], dtype: float64)"
      ]
     },
     "execution_count": 10,
     "metadata": {},
     "output_type": "execute_result"
    }
   ],
   "source": [
    "df.isna().mean()[df.isna().mean() > 0]"
   ]
  },
  {
   "cell_type": "markdown",
   "id": "6b5e49ea",
   "metadata": {},
   "source": [
    "Converting hourse_area_sqft and household_size into floats"
   ]
  },
  {
   "cell_type": "code",
   "execution_count": 13,
   "id": "dd4f5538",
   "metadata": {},
   "outputs": [],
   "source": [
    "# Getting rows with non-numeric values in house_area column\n",
    "null_rows = pd.to_numeric(df['house_area_sqft'], errors='coerce').isna()\n",
    "non_numeric_rows_house_area = df[null_rows]\n",
    "# non_numeric_rows_house_area.index\n",
    "\n",
    "#dropping the rows with non-numeric values for the house_area column\n",
    "df.drop(axis=0,index=non_numeric_rows_house_area.index,inplace=True)"
   ]
  },
  {
   "cell_type": "code",
   "execution_count": 14,
   "id": "fecfc3f4",
   "metadata": {},
   "outputs": [],
   "source": [
    "# Getting rows with non-numeric values in household_size column\n",
    "null_rows = pd.to_numeric(df['household_size'], errors='coerce').isna()\n",
    "non_numeric_rows_household_size = df[null_rows]\n",
    "# non_numeric_rows_household_size.index\n",
    "\n",
    "#dropping the rows with non-numeric values for the household_size column\n",
    "df.drop(axis=0,index=non_numeric_rows_household_size.index,inplace=True)"
   ]
  },
  {
   "cell_type": "code",
   "execution_count": null,
   "id": "5671459b",
   "metadata": {},
   "outputs": [],
   "source": [
    "#converting the columns to float\n",
    "df['house_area_sqft'] = df['house_area_sqft'].astype('float')\n",
    "df['household_size'] = df['household_size'].astype('float')"
   ]
  },
  {
   "cell_type": "code",
   "execution_count": 16,
   "id": "17c66d62",
   "metadata": {},
   "outputs": [
    {
     "name": "stdout",
     "output_type": "stream",
     "text": [
      "<class 'pandas.core.frame.DataFrame'>\n",
      "Int64Index: 11708 entries, 1 to 13999\n",
      "Data columns (total 20 columns):\n",
      " #   Column                           Non-Null Count  Dtype  \n",
      "---  ------                           --------------  -----  \n",
      " 0   ID                               11708 non-null  object \n",
      " 1   electricity_kwh_per_month        11708 non-null  float64\n",
      " 2   natural_gas_therms_per_month     11708 non-null  float64\n",
      " 3   vehicle_miles_per_month          11708 non-null  float64\n",
      " 4   house_area_sqft                  11708 non-null  float64\n",
      " 5   water_usage_liters_per_day       11708 non-null  float64\n",
      " 6   public_transport_usage_per_week  11708 non-null  int64  \n",
      " 7   household_size                   11708 non-null  float64\n",
      " 8   home_insulation_quality          11708 non-null  int64  \n",
      " 9   meat_consumption_kg_per_week     11708 non-null  float64\n",
      " 10  laundry_loads_per_week           11708 non-null  int64  \n",
      " 11  recycles_regularly               11708 non-null  float64\n",
      " 12  composts_organic_waste           11708 non-null  float64\n",
      " 13  uses_solar_panels                11708 non-null  int64  \n",
      " 14  energy_efficient_appliances      11708 non-null  float64\n",
      " 15  heating_type                     11708 non-null  object \n",
      " 16  diet_type                        11708 non-null  object \n",
      " 17  owns_pet                         11708 non-null  int64  \n",
      " 18  smart_thermostat_installed       11708 non-null  float64\n",
      " 19  carbon_footprint                 11708 non-null  float64\n",
      "dtypes: float64(12), int64(5), object(3)\n",
      "memory usage: 1.9+ MB\n"
     ]
    }
   ],
   "source": [
    "df.info()"
   ]
  },
  {
   "cell_type": "code",
   "execution_count": null,
   "id": "e3435c62",
   "metadata": {},
   "outputs": [
    {
     "data": {
      "text/plain": [
       "gas         5662\n",
       "electric    4584\n",
       "none        1124\n",
       "_J-vT          1\n",
       "SlA+a          1\n",
       "            ... \n",
       "/;bqE          1\n",
       "+my?s          1\n",
       "l%b?4          1\n",
       "Ty?8J          1\n",
       "Z'KVY          1\n",
       "Name: heating_type, Length: 341, dtype: int64"
      ]
     },
     "execution_count": 19,
     "metadata": {},
     "output_type": "execute_result"
    }
   ],
   "source": [
    "#checking the values in heating type column to make sure we only have gas,electric or none.\n",
    "df['heating_type'].value_counts()"
   ]
  },
  {
   "cell_type": "code",
   "execution_count": 26,
   "id": "4a6ef9a5",
   "metadata": {},
   "outputs": [],
   "source": [
    "#finding the rows without gas,electric or none\n",
    "null_heating_type = df['heating_type'][df['heating_type'].str.contains('gas|electric|none') == False]\n",
    "\n",
    "#dropping those rows\n",
    "df['heating_type'] = df['heating_type'].drop(axis=0,index = null_heating_type.index)"
   ]
  },
  {
   "cell_type": "code",
   "execution_count": 28,
   "id": "0a52d704",
   "metadata": {},
   "outputs": [
    {
     "data": {
      "text/plain": [
       "gas         5662\n",
       "electric    4584\n",
       "none        1124\n",
       "Name: heating_type, dtype: int64"
      ]
     },
     "execution_count": 28,
     "metadata": {},
     "output_type": "execute_result"
    }
   ],
   "source": [
    "#confirming we have the expected values in the column\n",
    "df['heating_type'].value_counts()"
   ]
  },
  {
   "cell_type": "code",
   "execution_count": 29,
   "id": "18165793",
   "metadata": {},
   "outputs": [
    {
     "name": "stdout",
     "output_type": "stream",
     "text": [
      "<class 'pandas.core.frame.DataFrame'>\n",
      "Int64Index: 11708 entries, 1 to 13999\n",
      "Data columns (total 20 columns):\n",
      " #   Column                           Non-Null Count  Dtype  \n",
      "---  ------                           --------------  -----  \n",
      " 0   ID                               11708 non-null  object \n",
      " 1   electricity_kwh_per_month        11708 non-null  float64\n",
      " 2   natural_gas_therms_per_month     11708 non-null  float64\n",
      " 3   vehicle_miles_per_month          11708 non-null  float64\n",
      " 4   house_area_sqft                  11708 non-null  float64\n",
      " 5   water_usage_liters_per_day       11708 non-null  float64\n",
      " 6   public_transport_usage_per_week  11708 non-null  int64  \n",
      " 7   household_size                   11708 non-null  float64\n",
      " 8   home_insulation_quality          11708 non-null  int64  \n",
      " 9   meat_consumption_kg_per_week     11708 non-null  float64\n",
      " 10  laundry_loads_per_week           11708 non-null  int64  \n",
      " 11  recycles_regularly               11708 non-null  float64\n",
      " 12  composts_organic_waste           11708 non-null  float64\n",
      " 13  uses_solar_panels                11708 non-null  int64  \n",
      " 14  energy_efficient_appliances      11708 non-null  float64\n",
      " 15  heating_type                     11370 non-null  object \n",
      " 16  diet_type                        11708 non-null  object \n",
      " 17  owns_pet                         11708 non-null  int64  \n",
      " 18  smart_thermostat_installed       11708 non-null  float64\n",
      " 19  carbon_footprint                 11708 non-null  float64\n",
      "dtypes: float64(12), int64(5), object(3)\n",
      "memory usage: 2.2+ MB\n"
     ]
    }
   ],
   "source": [
    "df.info()"
   ]
  },
  {
   "cell_type": "code",
   "execution_count": 32,
   "id": "18a1e1bb",
   "metadata": {},
   "outputs": [
    {
     "data": {
      "text/plain": [
       "omnivore      7120\n",
       "vegetarian    3427\n",
       "vegan         1161\n",
       "Name: diet_type, dtype: int64"
      ]
     },
     "execution_count": 32,
     "metadata": {},
     "output_type": "execute_result"
    }
   ],
   "source": [
    "df['diet_type'].value_counts()"
   ]
  },
  {
   "cell_type": "code",
   "execution_count": null,
   "id": "4e09fe1f",
   "metadata": {},
   "outputs": [],
   "source": []
  }
 ],
 "metadata": {
  "kernelspec": {
   "display_name": "learn-env",
   "language": "python",
   "name": "python3"
  },
  "language_info": {
   "codemirror_mode": {
    "name": "ipython",
    "version": 3
   },
   "file_extension": ".py",
   "mimetype": "text/x-python",
   "name": "python",
   "nbconvert_exporter": "python",
   "pygments_lexer": "ipython3",
   "version": "3.8.5"
  }
 },
 "nbformat": 4,
 "nbformat_minor": 5
}
